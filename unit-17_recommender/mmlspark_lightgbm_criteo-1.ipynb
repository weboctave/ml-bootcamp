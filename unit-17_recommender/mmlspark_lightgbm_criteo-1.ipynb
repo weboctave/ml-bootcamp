{
 "cells": [
  {
   "cell_type": "markdown",
   "metadata": {},
   "source": [
    "<i>Copyright (c) Microsoft Corporation. All rights reserved.</i>\n",
    "\n",
    "<i>Licensed under the MIT License.</i>"
   ]
  },
  {
   "cell_type": "markdown",
   "metadata": {},
   "source": [
    "Original GitHub link https://github.com/microsoft/recommenders/blob/master/examples/02_model_content_based_filtering/mmlspark_lightgbm_criteo.ipynb"
   ]
  },
  {
   "cell_type": "markdown",
   "metadata": {},
   "source": [
    "# Content-Based Personalization with LightGBM on Spark\n",
    "\n",
    "This notebook provides a quick example of how to train a [LightGBM](https://github.com/Microsoft/Lightgbm) model on Spark using [MMLSpark](https://github.com/Azure/mmlspark) for a content-based personalization scenario.\n",
    "\n",
    "We use the [CRITEO dataset](https://www.kaggle.com/c/criteo-display-ad-challenge), a well known dataset of website ads that can be used to optimize the Click-Through Rate (CTR). The dataset consists of a series of numerical and categorical features and a binary label indicating whether the add has been clicked or not.\n",
    "\n",
    "The model is based on [LightGBM](https://github.com/Microsoft/Lightgbm), which is a gradient boosting framework that uses tree-based learning algorithms. Finally, we take advantage of\n",
    "[MMLSpark](https://github.com/Azure/mmlspark) library, which allows LightGBM to be called in a Spark environment and be computed distributely.\n",
    "\n",
    "This scenario is a good example of **implicit feedback**, where binary labels indicate the interaction between a user and an item. This contrasts with explicit feedback, where the user explicitely rate the content, for example from 1 to 5. \n"
   ]
  },
  {
   "cell_type": "markdown",
   "metadata": {},
   "source": [
    "## Global Settings and Imports"
   ]
  },
  {
   "cell_type": "markdown",
   "metadata": {},
   "source": [
    "This notebook can be run in a Spark environment in a DSVM or in Azure Databricks. For more details about the installation process, please refer to the [setup instructions](../../SETUP.md).\n",
    "\n",
    "**NOTE for Azure Databricks:**\n",
    "* A python script is provided to simplify setting up Azure Databricks with the correct dependencies. Run ```python tools/databricks_install.py -h``` for more details.\n",
    "* MMLSpark should not be run on a cluster with autoscaling enabled. Disable the flag in the Azure Databricks Cluster configuration before running this notebook."
   ]
  },
  {
   "cell_type": "code",
   "execution_count": 2,
   "metadata": {},
   "outputs": [
    {
     "name": "stdout",
     "output_type": "stream",
     "text": [
      "MMLSpark version: com.microsoft.ml.spark:mmlspark_2.11:0.18.1\n",
      "System version: 3.6.11 | packaged by conda-forge | (default, Nov 27 2020, 18:57:37) \n",
      "[GCC 9.3.0]\n",
      "PySpark version: 2.4.5\n"
     ]
    }
   ],
   "source": [
    "import os\n",
    "import sys\n",
    "\n",
    "sys.path.append(\"../../\")\n",
    "\n",
    "import pyspark\n",
    "from pyspark.ml import PipelineModel\n",
    "from pyspark.ml.feature import FeatureHasher\n",
    "import papermill as pm\n",
    "import scrapbook as sb\n",
    "\n",
    "from reco_utils.common.spark_utils import start_or_get_spark\n",
    "from reco_utils.common.notebook_utils import is_databricks\n",
    "from reco_utils.dataset.criteo import load_spark_df\n",
    "from reco_utils.dataset.spark_splitters import spark_random_split\n",
    "\n",
    "# Setup MML Spark\n",
    "if not is_databricks():\n",
    "    # get the maven coordinates for MML Spark from databricks_install script\n",
    "    from tools.databricks_install import MMLSPARK_INFO\n",
    "    packages = [MMLSPARK_INFO[\"maven\"][\"coordinates\"]]\n",
    "    repo = MMLSPARK_INFO[\"maven\"].get(\"repo\")\n",
    "    spark = start_or_get_spark(packages=packages, repository=repo)\n",
    "    dbutils = None\n",
    "    print(\"MMLSpark version: {}\".format(MMLSPARK_INFO['maven']['coordinates']))\n",
    "\n",
    "from mmlspark.train import ComputeModelStatistics\n",
    "from mmlspark.lightgbm import LightGBMClassifier\n",
    "\n",
    "print(\"System version: {}\".format(sys.version))\n",
    "print(\"PySpark version: {}\".format(pyspark.version.__version__))"
   ]
  },
  {
   "cell_type": "code",
   "execution_count": 3,
   "metadata": {
    "tags": [
     "parameters"
    ]
   },
   "outputs": [],
   "source": [
    "# Criteo data size, it can be \"sample\" or \"full\"\n",
    "DATA_SIZE = \"sample\"\n",
    "\n",
    "# LightGBM parameters\n",
    "# More details on parameters: https://lightgbm.readthedocs.io/en/latest/Parameters-Tuning.html\n",
    "NUM_LEAVES = 32\n",
    "NUM_ITERATIONS = 50\n",
    "LEARNING_RATE = 0.1\n",
    "FEATURE_FRACTION = 0.8\n",
    "EARLY_STOPPING_ROUND = 10\n",
    "\n",
    "# Model name\n",
    "MODEL_NAME = 'lightgbm_criteo.mml'"
   ]
  },
  {
   "cell_type": "markdown",
   "metadata": {},
   "source": [
    "## Data Preparation\n",
    "\n",
    "The [Criteo Display Advertising Challenge](https://www.kaggle.com/c/criteo-display-ad-challenge) (Criteo DAC) dataset is a well-known industry benchmarking dataset for developing CTR prediction models, and is used frequently by research papers. The original dataset contains over 45M rows, but there is also a down-sampled dataset which has 100,000 rows (this can be used by setting `DATA_SIZE = \"sample\"`). Each row corresponds to a display ad served by Criteo and the first column is indicates whether this ad has been clicked or not.<br><br>\n",
    "The dataset contains 1 label column and 39 feature columns, where 13 columns are integer values (int00-int12) and 26 columns are categorical features (cat00-cat25).<br><br>\n",
    "What the columns represent is not provided, but for this case we can consider the integer and categorical values as features representing the user and / or item content. The label is binary and is an example of implicit feedback indicating a user's interaction with an item. With this dataset we can demonstrate how to build a model that predicts the probability of a user interacting with an item based on available user and item content features.\n"
   ]
  },
  {
   "cell_type": "code",
   "execution_count": 4,
   "metadata": {},
   "outputs": [
    {
     "name": "stderr",
     "output_type": "stream",
     "text": [
      "100%|██████████| 8.58k/8.58k [00:23<00:00, 371KB/s]\n"
     ]
    },
    {
     "data": {
      "text/html": [
       "<div>\n",
       "<style scoped>\n",
       "    .dataframe tbody tr th:only-of-type {\n",
       "        vertical-align: middle;\n",
       "    }\n",
       "\n",
       "    .dataframe tbody tr th {\n",
       "        vertical-align: top;\n",
       "    }\n",
       "\n",
       "    .dataframe thead th {\n",
       "        text-align: right;\n",
       "    }\n",
       "</style>\n",
       "<table border=\"1\" class=\"dataframe\">\n",
       "  <thead>\n",
       "    <tr style=\"text-align: right;\">\n",
       "      <th></th>\n",
       "      <th>label</th>\n",
       "      <th>int00</th>\n",
       "      <th>int01</th>\n",
       "      <th>int02</th>\n",
       "      <th>int03</th>\n",
       "      <th>int04</th>\n",
       "      <th>int05</th>\n",
       "      <th>int06</th>\n",
       "      <th>int07</th>\n",
       "      <th>int08</th>\n",
       "      <th>...</th>\n",
       "      <th>cat16</th>\n",
       "      <th>cat17</th>\n",
       "      <th>cat18</th>\n",
       "      <th>cat19</th>\n",
       "      <th>cat20</th>\n",
       "      <th>cat21</th>\n",
       "      <th>cat22</th>\n",
       "      <th>cat23</th>\n",
       "      <th>cat24</th>\n",
       "      <th>cat25</th>\n",
       "    </tr>\n",
       "  </thead>\n",
       "  <tbody>\n",
       "    <tr>\n",
       "      <th>0</th>\n",
       "      <td>0</td>\n",
       "      <td>1</td>\n",
       "      <td>1</td>\n",
       "      <td>5</td>\n",
       "      <td>0</td>\n",
       "      <td>1382</td>\n",
       "      <td>4</td>\n",
       "      <td>15</td>\n",
       "      <td>2</td>\n",
       "      <td>181</td>\n",
       "      <td>...</td>\n",
       "      <td>e5ba7672</td>\n",
       "      <td>f54016b9</td>\n",
       "      <td>21ddcdc9</td>\n",
       "      <td>b1252a9d</td>\n",
       "      <td>07b5194c</td>\n",
       "      <td>None</td>\n",
       "      <td>3a171ecb</td>\n",
       "      <td>c5c50484</td>\n",
       "      <td>e8b83407</td>\n",
       "      <td>9727dd16</td>\n",
       "    </tr>\n",
       "    <tr>\n",
       "      <th>1</th>\n",
       "      <td>0</td>\n",
       "      <td>2</td>\n",
       "      <td>0</td>\n",
       "      <td>44</td>\n",
       "      <td>1</td>\n",
       "      <td>102</td>\n",
       "      <td>8</td>\n",
       "      <td>2</td>\n",
       "      <td>2</td>\n",
       "      <td>4</td>\n",
       "      <td>...</td>\n",
       "      <td>07c540c4</td>\n",
       "      <td>b04e4670</td>\n",
       "      <td>21ddcdc9</td>\n",
       "      <td>5840adea</td>\n",
       "      <td>60f6221e</td>\n",
       "      <td>None</td>\n",
       "      <td>3a171ecb</td>\n",
       "      <td>43f13e8b</td>\n",
       "      <td>e8b83407</td>\n",
       "      <td>731c3655</td>\n",
       "    </tr>\n",
       "  </tbody>\n",
       "</table>\n",
       "<p>2 rows × 40 columns</p>\n",
       "</div>"
      ],
      "text/plain": [
       "   label  int00  int01  int02  int03  int04  int05  int06  int07  int08  ...  \\\n",
       "0      0      1      1      5      0   1382      4     15      2    181  ...   \n",
       "1      0      2      0     44      1    102      8      2      2      4  ...   \n",
       "\n",
       "      cat16     cat17     cat18     cat19     cat20 cat21     cat22     cat23  \\\n",
       "0  e5ba7672  f54016b9  21ddcdc9  b1252a9d  07b5194c  None  3a171ecb  c5c50484   \n",
       "1  07c540c4  b04e4670  21ddcdc9  5840adea  60f6221e  None  3a171ecb  43f13e8b   \n",
       "\n",
       "      cat24     cat25  \n",
       "0  e8b83407  9727dd16  \n",
       "1  e8b83407  731c3655  \n",
       "\n",
       "[2 rows x 40 columns]"
      ]
     },
     "execution_count": 4,
     "metadata": {},
     "output_type": "execute_result"
    }
   ],
   "source": [
    "raw_data = load_spark_df(size=DATA_SIZE, spark=spark, dbutils=dbutils)\n",
    "# visualize data\n",
    "raw_data.limit(2).toPandas().head()"
   ]
  },
  {
   "cell_type": "markdown",
   "metadata": {},
   "source": [
    "### Feature Processing\n",
    "The feature data provided has many missing values across both integer and categorical feature fields. In addition the categorical features have many distinct values, so effectively cleaning and representing the feature data is an important step prior to training a model.<br><br>\n",
    "One of the simplest ways of managing both features that have missing values as well as high cardinality is to use the hashing trick. The [FeatureHasher](http://spark.apache.org/docs/latest/ml-features.html#featurehasher) transformer will pass integer values through and will hash categorical features into a sparse vector of lower dimensionality, which can be used effectively by LightGBM.<br><br>\n",
    "First, the dataset is splitted randomly for training and testing and feature processing is applied to each dataset."
   ]
  },
  {
   "cell_type": "code",
   "execution_count": 5,
   "metadata": {},
   "outputs": [],
   "source": [
    "raw_train, raw_test = spark_random_split(raw_data, ratio=0.8, seed=42)"
   ]
  },
  {
   "cell_type": "code",
   "execution_count": 6,
   "metadata": {},
   "outputs": [],
   "source": [
    "columns = [c for c in raw_data.columns if c != 'label']\n",
    "feature_processor = FeatureHasher(inputCols=columns, outputCol='features')"
   ]
  },
  {
   "cell_type": "code",
   "execution_count": 7,
   "metadata": {},
   "outputs": [],
   "source": [
    "train = feature_processor.transform(raw_train)\n",
    "test = feature_processor.transform(raw_test)"
   ]
  },
  {
   "cell_type": "code",
   "execution_count": 11,
   "metadata": {},
   "outputs": [
    {
     "name": "stdout",
     "output_type": "stream",
     "text": [
      "+-----+-----+-----+-----+-----+------+-----+-----+-----+-----+-----+-----+-----+-----+--------+--------+--------+--------+--------+--------+--------+--------+--------+--------+--------+--------+--------+--------+--------+--------+--------+--------+--------+--------+--------+--------+--------+--------+--------+--------+--------------------+\n",
      "|label|int00|int01|int02|int03| int04|int05|int06|int07|int08|int09|int10|int11|int12|   cat00|   cat01|   cat02|   cat03|   cat04|   cat05|   cat06|   cat07|   cat08|   cat09|   cat10|   cat11|   cat12|   cat13|   cat14|   cat15|   cat16|   cat17|   cat18|   cat19|   cat20|   cat21|   cat22|   cat23|   cat24|   cat25|            features|\n",
      "+-----+-----+-----+-----+-----+------+-----+-----+-----+-----+-----+-----+-----+-----+--------+--------+--------+--------+--------+--------+--------+--------+--------+--------+--------+--------+--------+--------+--------+--------+--------+--------+--------+--------+--------+--------+--------+--------+--------+--------+--------------------+\n",
      "|    0| null|   -2| null| null|  4383| null|    0|   18|   29| null|    0| null| null|05db9164|09e68b86|8bb45675|5ca98608|25c83c98|fe6b92e5|b87f4a4a|5b392875|a73ee510|97d3ddaa|319687c9|09a1c81f|62036f49|b28479f6|52baadf5|3f129278|3486227d|5aed7436|8633b12e|b1252a9d|b695ce1e|    null|32c7478e|5ede75e5|e8b83407|6c67104d|(262144,[20766,46...|\n",
      "|    0| null|   -2|    1| null| 11848| null|    0|    0|   12| null|    0| null| null|68fd1e64|65265295|e0e1caee|e16eb6b9|25c83c98|7e0ccccf|7bbe47bf|985e3fcb|a73ee510|3b08e48b|a17df47c|23b33a11|1ec8e563|07d13a8f|b30b312f|262d5230|776ce399|abad9dca|21ddcdc9|b1252a9d|7e47fad7|ad3062eb|55dd3565|8548f4a1|9b3e8820|93032663|(262144,[13482,15...|\n",
      "|    0| null|   -2|    1| null|115777| null|    0|    0|   17| null|    0| null| null|5a9ed9b0|1cfdf714|55d7b2d3|9d8b351a|25c83c98|    null|1c3e7071|51d76abe|7cc72ec2|eefb9756|0f736a0c|089752e4|3af886ff|b28479f6|d345b1a0|bea78f53|e5ba7672|e88ffc9d|071c1933|b1252a9d|6c02de41|ad3062eb|423fab69|13f05494|cb079c2d|33c2d633|(262144,[18238,19...|\n",
      "|    0| null|   -2|    2| null| 13662|  120|   78|    0|   15| null|    3| null| null|05db9164|bce95927|078b949c|13508380|4cf72387|7e0ccccf|50b436c9|0b153874|a73ee510|b1ed2e73|a0a5e9d7|48b3ee16|ee79db7b|07d13a8f|fec218c0|5f0caf67|e5ba7672|04d863d5|55dd3565|b1252a9d|0358ebda|    null|423fab69|45ab94c8|e8b83407|c84c4aec|(262144,[470,1823...|\n",
      "|    0| null|   -2|    2|    1|  null| null|    0|    1|    1| null|    0| null|    1|8cf07265|ae46a29d|3818f730|f922efad|f3474129|fe6b92e5|88002ee1|0b153874|7cc72ec2|3b08e48b|f1b78ab4|091e2620|6e5da64f|b28479f6|cccdd69e|e2e2fcd9|2005abd1|e32bf683|    null|    null|b964dee0|    null|32c7478e|b34f3128|    null|    null|(262144,[16896,40...|\n",
      "+-----+-----+-----+-----+-----+------+-----+-----+-----+-----+-----+-----+-----+-----+--------+--------+--------+--------+--------+--------+--------+--------+--------+--------+--------+--------+--------+--------+--------+--------+--------+--------+--------+--------+--------+--------+--------+--------+--------+--------+--------------------+\n",
      "only showing top 5 rows\n",
      "\n"
     ]
    }
   ],
   "source": [
    "train.show(5)"
   ]
  },
  {
   "cell_type": "code",
   "execution_count": 12,
   "metadata": {},
   "outputs": [
    {
     "name": "stdout",
     "output_type": "stream",
     "text": [
      "+-----+-----+\n",
      "|label|count|\n",
      "+-----+-----+\n",
      "|    1|18118|\n",
      "|    0|61992|\n",
      "+-----+-----+\n",
      "\n"
     ]
    }
   ],
   "source": [
    "train.select(\"label\").groupBy(\"label\").count().show()"
   ]
  },
  {
   "cell_type": "code",
   "execution_count": 16,
   "metadata": {},
   "outputs": [
    {
     "data": {
      "text/plain": [
       "[Row(features=SparseVector(262144, {20766: 1.0, 46747: 18.0, 49602: 1.0, 50388: 1.0, 66551: 0.0, 72199: 1.0, 84264: 29.0, 106531: 1.0, 106700: 1.0, 110783: 1.0, 119348: 1.0, 127003: 4383.0, 130583: 1.0, 134530: 1.0, 135823: 1.0, 138864: 1.0, 142383: 1.0, 151866: 1.0, 156117: 1.0, 164189: 1.0, 169096: 1.0, 190596: 1.0, 209093: 1.0, 212186: 1.0, 215871: 1.0, 220916: 1.0, 236447: 1.0, 239959: 1.0, 252306: 1.0, 258299: 0.0, 261667: -2.0}))]"
      ]
     },
     "execution_count": 16,
     "metadata": {},
     "output_type": "execute_result"
    }
   ],
   "source": [
    "train.select(\"features\").head(1)"
   ]
  },
  {
   "cell_type": "markdown",
   "metadata": {},
   "source": [
    "## Model Training\n",
    "In MMLSpark, the LightGBM implementation for binary classification is invoked using the `LightGBMClassifier` class and specifying the objective as `\"binary\"`. In this instance, the occurrence of positive labels is quite low, so setting the `isUnbalance` flag to true helps account for this imbalance.<br><br>\n",
    "\n",
    "### Hyper-parameters\n",
    "Below are some of the key [hyper-parameters](https://github.com/Microsoft/LightGBM/blob/master/docs/Parameters-Tuning.rst) for training a LightGBM classifier on Spark:\n",
    "- `numLeaves`: the number of leaves in each tree\n",
    "- `numIterations`: the number of iterations to apply boosting\n",
    "- `learningRate`: the learning rate for training across trees\n",
    "- `featureFraction`: the fraction of features used for training a tree\n",
    "- `earlyStoppingRound`: round at which early stopping can be applied to avoid overfitting"
   ]
  },
  {
   "cell_type": "code",
   "execution_count": 17,
   "metadata": {},
   "outputs": [],
   "source": [
    "lgbm = LightGBMClassifier(\n",
    "    labelCol=\"label\",\n",
    "    featuresCol=\"features\",\n",
    "    objective=\"binary\",\n",
    "    isUnbalance=True,\n",
    "    boostingType=\"gbdt\",\n",
    "    boostFromAverage=True,\n",
    "    baggingSeed=42,\n",
    "    numLeaves=NUM_LEAVES,\n",
    "    numIterations=NUM_ITERATIONS,\n",
    "    learningRate=LEARNING_RATE,\n",
    "    featureFraction=FEATURE_FRACTION,\n",
    "    earlyStoppingRound=EARLY_STOPPING_ROUND\n",
    ")"
   ]
  },
  {
   "cell_type": "markdown",
   "metadata": {},
   "source": [
    "### Model Training and Evaluation"
   ]
  },
  {
   "cell_type": "code",
   "execution_count": 18,
   "metadata": {},
   "outputs": [],
   "source": [
    "model = lgbm.fit(train)"
   ]
  },
  {
   "cell_type": "code",
   "execution_count": 19,
   "metadata": {},
   "outputs": [],
   "source": [
    "predictions = model.transform(test)"
   ]
  },
  {
   "cell_type": "code",
   "execution_count": 20,
   "metadata": {},
   "outputs": [
    {
     "name": "stdout",
     "output_type": "stream",
     "text": [
      "+---------------+------------------+\n",
      "|evaluation_type|               AUC|\n",
      "+---------------+------------------+\n",
      "| Classification|0.6874077730353682|\n",
      "+---------------+------------------+\n",
      "\n"
     ]
    }
   ],
   "source": [
    "evaluator = (\n",
    "    ComputeModelStatistics()\n",
    "    .setScoredLabelsCol(\"prediction\")\n",
    "    .setLabelCol(\"label\")\n",
    "    .setEvaluationMetric(\"AUC\")\n",
    ")\n",
    "\n",
    "result = evaluator.transform(predictions)\n",
    "auc = result.select(\"AUC\").collect()[0][0]\n",
    "result.show()"
   ]
  },
  {
   "cell_type": "code",
   "execution_count": 21,
   "metadata": {},
   "outputs": [
    {
     "data": {
      "application/scrapbook.scrap.json+json": {
       "data": 0.6874077730353682,
       "encoder": "json",
       "name": "auc",
       "version": 1
      }
     },
     "metadata": {
      "scrapbook": {
       "data": true,
       "display": false,
       "name": "auc"
      }
     },
     "output_type": "display_data"
    }
   ],
   "source": [
    "# Record results with papermill for tests\n",
    "sb.glue(\"auc\", auc)"
   ]
  },
  {
   "cell_type": "markdown",
   "metadata": {},
   "source": [
    "## Model Saving \n",
    "The full pipeline for operating on raw data including feature processing and model prediction can be saved and reloaded for use in another workflow."
   ]
  },
  {
   "cell_type": "code",
   "execution_count": 22,
   "metadata": {},
   "outputs": [],
   "source": [
    "# save model\n",
    "pipeline = PipelineModel(stages=[feature_processor, model])\n",
    "pipeline.write().overwrite().save(MODEL_NAME)"
   ]
  },
  {
   "cell_type": "code",
   "execution_count": 23,
   "metadata": {},
   "outputs": [],
   "source": [
    "# cleanup spark instance\n",
    "if not is_databricks():\n",
    "    spark.stop()"
   ]
  },
  {
   "cell_type": "markdown",
   "metadata": {},
   "source": [
    "## Additional Reading\n",
    "\\[1\\] Guolin Ke, Qi Meng, Thomas Finley, Taifeng Wang, Wei Chen, Weidong Ma, Qiwei Ye, and Tie-Yan Liu. 2017. LightGBM: A highly efficient gradient boosting decision tree. In Advances in Neural Information Processing Systems. 3146–3154. https://papers.nips.cc/paper/6907-lightgbm-a-highly-efficient-gradient-boosting-decision-tree.pdf <br>\n",
    "\\[2\\] MML Spark: https://mmlspark.blob.core.windows.net/website/index.html <br>\n"
   ]
  }
 ],
 "metadata": {
  "kernelspec": {
   "display_name": "python3",
   "language": "python",
   "name": "python3"
  },
  "language_info": {
   "codemirror_mode": {
    "name": "ipython",
    "version": 3
   },
   "file_extension": ".py",
   "mimetype": "text/x-python",
   "name": "python",
   "nbconvert_exporter": "python",
   "pygments_lexer": "ipython3",
   "version": "3.6.11"
  }
 },
 "nbformat": 4,
 "nbformat_minor": 2
}
